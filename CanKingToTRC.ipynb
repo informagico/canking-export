{
 "cells": [
  {
   "cell_type": "code",
   "execution_count": 1,
   "metadata": {},
   "outputs": [
    {
     "name": "stdout",
     "output_type": "stream",
     "text": [
      "Last modified: Wed Sep 30 11:09:19 2020\n",
      "Created: Wed Sep 30 11:09:18 2020\n",
      "Read 31 lines from file testCAN.txt\n",
      "['Chn Identifier Flg   DLC  D0...1...2...3...4...5...6..D7       Time     Dir\\n', ' 0   217056256 X       8 255 255 255  88  88 255 243 255    4262.442410 R\\n']\n"
     ]
    }
   ],
   "source": [
    "import os.path, time\n",
    "\n",
    "#implement file chooser\n",
    "fName = \"testCAN.txt\"\n",
    "\n",
    "UnixModTime = os.path.getmtime(fName)\n",
    "print(\"Last modified: %s\" % time.ctime(os.path.getmtime(fName)))\n",
    "print(\"Created: %s\" % time.ctime(os.path.getctime(fName)))\n",
    "\n",
    "with open(fName) as f:\n",
    "    lines = f.readlines()\n",
    "    print(f\"Read {len(lines)} lines from file {fName}\")\n",
    "    print(lines[0:2])"
   ]
  },
  {
   "cell_type": "code",
   "execution_count": 2,
   "metadata": {},
   "outputs": [
    {
     "name": "stdout",
     "output_type": "stream",
     "text": [
      ";$FILEVERSION=1.1\n",
      ";$STARTTIME=44104.46480324074\n",
      ";\n",
      ";   Columns description:\n",
      ";   ~~~~~~~~~~~~~~~~~~~~~\n",
      ";   +-Message Number\n",
      ";   |          +Time offset (ms)\n",
      ";   |          |        +Type\n",
      ";   |          |        |        +ID (hex)\n",
      ";   |          |        |        |     +Data Length Code\n",
      ";   |          |        |        |     |   +Data bytes (hex)\n",
      ";   |          |        |        |     |   |\n",
      ";---+---   ----+----  --+--  ----+---  +  -+ -- -- -- -- -- -- --\n",
      "\n"
     ]
    }
   ],
   "source": [
    "#TRC HEADER CREATTION\n",
    "trc_header = \"\"\";$FILEVERSION=1.1\n",
    ";$STARTTIME=\"\"\"\n",
    "\n",
    "#SEE https://www.peak-system.com/produktcd/Pdf/English/PEAK_CAN_TRC_File_Format.pdf\n",
    "#$STARTTIME is the days since 12/30/1899 and the fractional portion of the day since midnight.\n",
    "#This is slightly incorrect since it is using the end time as the base time.\n",
    "#NOT CONCERNED\n",
    "import datetime\n",
    "fulldatetime = datetime.datetime.strptime(time.ctime(UnixModTime), \"%c\")\n",
    "l_date = fulldatetime.date()\n",
    "f_date = datetime.date(1899, 12, 30)\n",
    "delta = l_date - f_date\n",
    "#print(delta.days)\n",
    "\n",
    "ms = fulldatetime.time()\n",
    "seconds_per_day = 3600*24\n",
    "seconds_since_midnight = (fulldatetime - fulldatetime.replace(hour=0, minute=0, second=0, microsecond=0)).total_seconds()\n",
    "fractional_day = seconds_since_midnight / seconds_per_day\n",
    "#print(fractional_day)\n",
    "\n",
    "#WRITE TIMESTAMP\n",
    "bunkepoch = delta.days + fractional_day\n",
    "trc_header = trc_header + str(bunkepoch) \n",
    "\n",
    "#FINISH BOILERPLATE\n",
    "trc_header = trc_header + \"\"\"\n",
    ";\n",
    ";   Columns description:\n",
    ";   ~~~~~~~~~~~~~~~~~~~~~\n",
    ";   +-Message Number\n",
    ";   |          +Time offset (ms)\n",
    ";   |          |        +Type\n",
    ";   |          |        |        +ID (hex)\n",
    ";   |          |        |        |     +Data Length Code\n",
    ";   |          |        |        |     |   +Data bytes (hex)\n",
    ";   |          |        |        |     |   |\n",
    ";---+---   ----+----  --+--  ----+---  +  -+ -- -- -- -- -- -- --\n",
    "\"\"\"\n",
    "print(trc_header)"
   ]
  },
  {
   "cell_type": "code",
   "execution_count": 3,
   "metadata": {},
   "outputs": [
    {
     "name": "stdout",
     "output_type": "stream",
     "text": [
      "date Wed Sep 30 11:09:19 AM 2020\n",
      "base hex  timestamps relative\n",
      "internal events logged\n",
      "Begin Triggerblock\n",
      "\n"
     ]
    }
   ],
   "source": [
    "#ASC HEADER CREATTION\n",
    "asc_header = \"date \"\n",
    "\n",
    "import datetime\n",
    "fulldatetime = datetime.datetime.strptime(time.ctime(UnixModTime), \"%c\")\n",
    "#date_str = fulldatetime.strftime(\"%a %b %d %X %Y\") #%X time approx doesn't use am/pm\n",
    "date_str = fulldatetime.strftime(\"%a %b %d %I:%M:%S %p %Y\")\n",
    "#print(date_str)\n",
    "\n",
    "asc_header = asc_header + date_str +'\\n'\n",
    "asc_header = asc_header + \"\"\"base hex  timestamps relative\n",
    "internal events logged\n",
    "Begin Triggerblock\n",
    "\"\"\"\n",
    "print(asc_header)"
   ]
  },
  {
   "cell_type": "code",
   "execution_count": 4,
   "metadata": {},
   "outputs": [],
   "source": [
    "from dataclasses import dataclass\n",
    "\n",
    "#DATA STRUCTURE\n",
    "#Made this to strongly type parsed data\n",
    "@dataclass\n",
    "class CanLine:\n",
    "    \"\"\"Class for storing CAN frame.\"\"\"\n",
    "    message_number: int\n",
    "    time: float\n",
    "    time_offset: float\n",
    "    transmit: str\n",
    "    identifier: int\n",
    "    dlc: int\n",
    "    data: str\n",
    "    def __repr__(self):\n",
    "        return f\"Virtual {__class__}\"\n",
    "\n",
    "#Added benefit is __repr__() which allows to easily convert to body of trc file    \n",
    "@dataclass\n",
    "class TrcCanLine(CanLine):\n",
    "    def __repr__(self):\n",
    "        rep = ''\n",
    "        SEPARATOR = '  '\n",
    "        \n",
    "        COUNTER_JUST =  7\n",
    "        spaces = COUNTER_JUST - len(str(self.message_number))\n",
    "        rep = ' '*spaces + str(self.message_number) + ')' + SEPARATOR\n",
    "        \n",
    "        TIME_JUST = 10\n",
    "        time = '%.1f' % self.time_offset\n",
    "        rep = rep + ' '*(TIME_JUST - len(time)) + time + SEPARATOR\n",
    "        \n",
    "        TX_JUST = 5\n",
    "        rep = rep + self.transmit + ' '*(TX_JUST - len(self.transmit)) + SEPARATOR\n",
    "        \n",
    "        ID_JUST = 8\n",
    "        hexid = '%08X' % self.identifier\n",
    "        rep = rep + ' '*(ID_JUST - len(hexid)) + hexid + SEPARATOR\n",
    "        \n",
    "        rep = rep + str(self.dlc) + SEPARATOR\n",
    "        \n",
    "        rep = rep + self.data\n",
    "\n",
    "        return rep\n",
    "\n",
    "#Added benefit is __repr__() which allows to easily convert to body of asc file    \n",
    "@dataclass\n",
    "class AscCanLine(CanLine):\n",
    "    def __repr__(self):\n",
    "        rep = ''\n",
    "        SEPARATOR = '  '\n",
    "        \n",
    "        TIME_JUST = 11\n",
    "        time = '%08f' % (self.time_offset / 1000)\n",
    "        rep = rep +' '*(TIME_JUST - len(time)) + time + ' 1'\n",
    "        \n",
    "        \n",
    "        hexid = '%08X' % self.identifier\n",
    "        rep = rep + SEPARATOR + hexid + 'x'\n",
    "        \n",
    "        rep = rep + ' '*7 + self.transmit\n",
    "        \n",
    "        rep = rep + SEPARATOR + ' d ' + str(self.dlc) + ' ' + self.data.rstrip()\n",
    "                \n",
    "        return rep"
   ]
  },
  {
   "cell_type": "code",
   "execution_count": 5,
   "metadata": {},
   "outputs": [
    {
     "name": "stdout",
     "output_type": "stream",
     "text": [
      "[   0.000520 1  18FF0E00x       Rx   d 8 FC 03 92 04 E8 03 E8 03,    0.000590 1  18FF2700x       Rx   d 8 02 00 00 02 FF FF FF FF]\n",
      "[     13)         0.5  Rx     18FF0E00  8  FC 03 92 04 E8 03 E8 03 ,      14)         0.6  Rx     18FF2700  8  02 00 00 02 FF FF FF FF ]\n"
     ]
    }
   ],
   "source": [
    "#CAN PARSER\n",
    "#This will need to be modified on most runs\n",
    "#Depending on how CAN KING is configured will have to skip lines or convert from base 10\n",
    "\n",
    "#extremely inefficient; whatever.\n",
    "asc_canlines = []\n",
    "trc_canlines = []\n",
    "\n",
    "prevtime = None\n",
    "line_count = 1\n",
    "\n",
    "#CAN KING had 2 formatters so lines were duplicated.  Only grab odd lines.\n",
    "for i in range(1, len(lines) - 1, 2):\n",
    "    line = lines[i]\n",
    "\n",
    "#for line in lines[1:-2]:\n",
    "    splitline = line.split()\n",
    "    \n",
    "    timestamp = float(splitline[-2])\n",
    "    \n",
    "    if prevtime is not None:\n",
    "        time_offset = (timestamp - prevtime) * 1000\n",
    "    else:\n",
    "        time_offset = 0.0\n",
    "    prevtime = timestamp\n",
    "    \n",
    "    \n",
    "    if splitline[-1] == 'R':\n",
    "        transmit = 'Rx'\n",
    "    else:\n",
    "        transmit = 'Tx'\n",
    "        \n",
    "    dlc = int(splitline[3])\n",
    "    \n",
    "    data = ''\n",
    "    if dlc > 0 and dlc < 0xFF:\n",
    "        for i in range(4, 4+dlc):\n",
    "            data = data + '%02X' % int(splitline[i]) + ' '\n",
    "    \n",
    "    asc_canlines.append(AscCanLine(line_count, timestamp, time_offset, transmit, int(splitline[1]), dlc, data))\n",
    "    trc_canlines.append(TrcCanLine(line_count, timestamp, time_offset, transmit, int(splitline[1]), dlc, data))\n",
    "    line_count = line_count + 1\n",
    "\n",
    "print(asc_canlines[-3:-1])\n",
    "print(trc_canlines[-3:-1])"
   ]
  },
  {
   "cell_type": "code",
   "execution_count": 6,
   "metadata": {},
   "outputs": [
    {
     "name": "stdout",
     "output_type": "stream",
     "text": [
      "Wrote 1490 bytes to testCAN.trc\n"
     ]
    }
   ],
   "source": [
    "#Write the trace file\n",
    "oName = fName.split('.')[0] + '.trc'\n",
    "with open(oName, \"wt\") as of:\n",
    "    of.write(trc_header)\n",
    "    for i in trc_canlines:\n",
    "        of.write(i.__repr__() + '\\n')\n",
    "print(f\"Wrote {os.path.getsize(oName)} bytes to {oName}\")"
   ]
  },
  {
   "cell_type": "code",
   "execution_count": 7,
   "metadata": {},
   "outputs": [
    {
     "name": "stdout",
     "output_type": "stream",
     "text": [
      "Wrote 1102 bytes to testCAN.asc\n"
     ]
    }
   ],
   "source": [
    "#Write the asc file\n",
    "oName = fName.split('.')[0] + '.asc'\n",
    "with open(oName, \"wt\") as of:\n",
    "    of.write(asc_header)\n",
    "    for i in asc_canlines:\n",
    "        of.write(i.__repr__() + '\\n')\n",
    "    of.write('End Triggerblock\\n')\n",
    "print(f\"Wrote {os.path.getsize(oName)} bytes to {oName}\")"
   ]
  }
 ],
 "metadata": {
  "kernelspec": {
   "display_name": "Python 3",
   "language": "python",
   "name": "python3"
  },
  "language_info": {
   "codemirror_mode": {
    "name": "ipython",
    "version": 3
   },
   "file_extension": ".py",
   "mimetype": "text/x-python",
   "name": "python",
   "nbconvert_exporter": "python",
   "pygments_lexer": "ipython3",
   "version": "3.7.6"
  }
 },
 "nbformat": 4,
 "nbformat_minor": 4
}
